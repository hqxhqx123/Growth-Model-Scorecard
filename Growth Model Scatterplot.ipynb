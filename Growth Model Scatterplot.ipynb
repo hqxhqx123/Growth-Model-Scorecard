{
 "cells": [
  {
   "cell_type": "code",
   "execution_count": null,
   "metadata": {
    "ExecuteTime": {
     "end_time": "2021-01-05T22:02:45.329526Z",
     "start_time": "2021-01-05T22:02:45.324538Z"
    }
   },
   "outputs": [],
   "source": [
    "import pandas as pd\n",
    "import numpy as np\n",
    "import plotly.graph_objects as go"
   ]
  },
  {
   "cell_type": "markdown",
   "metadata": {},
   "source": [
    "# Growth Model Scatterplot"
   ]
  },
  {
   "cell_type": "code",
   "execution_count": null,
   "metadata": {
    "ExecuteTime": {
     "end_time": "2021-01-05T22:02:53.041898Z",
     "start_time": "2021-01-05T22:02:45.342490Z"
    }
   },
   "outputs": [],
   "source": [
    "## scatterplot_df: data for scatterplot\n",
    "scatterplot_df = pd.read_excel('scatterplot.xlsx')"
   ]
  },
  {
   "cell_type": "code",
   "execution_count": null,
   "metadata": {
    "ExecuteTime": {
     "end_time": "2021-01-05T22:02:53.086771Z",
     "start_time": "2021-01-05T22:02:53.044883Z"
    }
   },
   "outputs": [],
   "source": [
    "## Dictionary d contains dataframes 'plot_Jan' to 'plot_Oct', which contain X, Y values of each month\n",
    "\n",
    "months = ['plot_Jan','plot_Feb','plot_Mar','plot_Apr','plot_May','plot_Jun','plot_Jul','plot_Aug','plot_Sep','plot_Oct']\n",
    "\n",
    "for mon in range(1,11):\n",
    "    if mon == 1:\n",
    "        d = {months[mon-1]: pd.DataFrame(scatterplot_df[scatterplot_df['MNTH']==mon])}\n",
    "    else:\n",
    "        d.update({months[mon-1]: pd.DataFrame(scatterplot_df[scatterplot_df['MNTH']==mon])})"
   ]
  },
  {
   "cell_type": "code",
   "execution_count": null,
   "metadata": {
    "ExecuteTime": {
     "end_time": "2021-01-05T22:03:02.687087Z",
     "start_time": "2021-01-05T22:02:53.090761Z"
    },
    "scrolled": false
   },
   "outputs": [],
   "source": [
    "## Plotting\n",
    "\n",
    "fig = go.Figure()\n",
    "\n",
    "# Set axes properties\n",
    "fig.update_xaxes(range=[-50, 100], zeroline=False)\n",
    "fig.update_yaxes(range=[0, 6])\n",
    "fig.update_layout(\n",
    "    xaxis = dict(\n",
    "        tickmode = 'array',\n",
    "        tickvals = [-50,-25,0,25,50,75,100],\n",
    "        ticktext = ['-50%','shrinking premium', '0%','<=50% target','50%','>50% target','100%']\n",
    "    )\n",
    ")\n",
    "\n",
    "\n",
    "## Create six segments template\n",
    "fig.update_layout(\n",
    "    shapes=[\n",
    "        go.layout.Shape(type=\"rect\",layer=\"below\",xref=\"x\",yref=\"y\",x0=-50,y0=0,x1=-0.3,y1=3,\n",
    "            line=dict(color=\"lightsalmon\"),fillcolor=\"lightsalmon\"),\n",
    "        go.layout.Shape(type=\"rect\",layer=\"below\",xref=\"x\",yref=\"y\",x0=-50,y0=3.1,x1=-0.3,y1=6,\n",
    "            line=dict(color=\"peachpuff\"),fillcolor=\"peachpuff\"),\n",
    "        go.layout.Shape(type=\"rect\",layer=\"below\",xref=\"x\",yref=\"y\",x0=0,y0=0,x1=50,y1=3,\n",
    "            line=dict(color=\"#FAF38C\"),fillcolor=\"#FAF38C\"),\n",
    "        go.layout.Shape(type=\"rect\",layer=\"below\",xref=\"x\",yref=\"y\",x0=0,y0=3.1,x1=50,y1=6,\n",
    "            line=dict(color=\"#E5FFCC\"),fillcolor=\"#E5FFCC\"),\n",
    "        go.layout.Shape(type=\"rect\",layer=\"below\",xref=\"x\",yref=\"y\",x0=50.3,y0=0,x1=100,y1=3,\n",
    "            line=dict(color=\"#C1E689\"),fillcolor=\"#C1E689\"),\n",
    "        go.layout.Shape(type=\"rect\",layer=\"below\",xref=\"x\",yref=\"y\",x0=50.3,y0=3.1,x1=100,y1=6,\n",
    "            line=dict(color=\"darkseagreen\"),fillcolor=\"darkseagreen\"),\n",
    "    ])\n",
    "\n",
    "\n",
    "\n",
    "## Scatter plot\n",
    "for mon in months:\n",
    "    fig.add_trace(go.Scatter(\n",
    "        x=d[mon]['GROWTH'], \n",
    "        y=d[mon]['KPI'], mode=\"markers\",\n",
    "        text=scatterplot_df['AGENT_NUM'],\n",
    "        marker=dict(color=\"#0066CC\", size=3, opacity=0.8),visible=False,\n",
    "        hoverinfo = 'x+y+text'))\n",
    "    \n",
    "\n",
    "    \n",
    "## Add buttons\n",
    "vi = [False]*10 + [True]\n",
    "\n",
    "for i in range(10):\n",
    "    vi[i] = True\n",
    "    if i == 0:\n",
    "        li=list([\n",
    "        dict(label=months[i][5:],\n",
    "                    method=\"update\",\n",
    "                    args=[{\"visible\": vi},\n",
    "                    {\"title\": \"Agency Growth Model: \"+ months[i][5:]\n",
    "                     }])\n",
    "        ])\n",
    "    else:\n",
    "        li.append(\n",
    "        dict(label=months[i][5:],\n",
    "                    method=\"update\",\n",
    "                    args=[{\"visible\": vi},\n",
    "                    {\"title\": \"Agency Growth Model: \"+ months[i][5:]\n",
    "                     }]))\n",
    "    \n",
    "    vi = [False]*10 + [True]\n",
    "\n",
    "                \n",
    "fig.update_layout(\n",
    "    updatemenus=[\n",
    "        go.layout.Updatemenu(\n",
    "            type=\"buttons\",\n",
    "            active=0,\n",
    "            buttons=li\n",
    "        )\n",
    "    ])\n",
    "\n",
    "\n",
    "\n",
    "## Add text\n",
    "fig.add_trace(go.Scatter(x=[-24.5,-24.5,25,25,75,75], y=[1.3, 4.3, 1.3, 4.3, 1.3, 4.3], \n",
    "                         text=[\"D\", \"C\", \"B\",\"A\",\"AA\",\"AAA\"],\n",
    "                         mode=\"text\", textfont=dict(color=\"darkblue\", size=40)\n",
    "              ))\n",
    "\n",
    "fig.update_layout(title_text=\"Growth Model Scorecard\", showlegend=False)\n",
    "\n",
    "      \n",
    "fig.show()"
   ]
  }
 ],
 "metadata": {
  "kernelspec": {
   "display_name": "Python 3",
   "language": "python",
   "name": "python3"
  },
  "language_info": {
   "codemirror_mode": {
    "name": "ipython",
    "version": 3
   },
   "file_extension": ".py",
   "mimetype": "text/x-python",
   "name": "python",
   "nbconvert_exporter": "python",
   "pygments_lexer": "ipython3",
   "version": "3.7.3"
  },
  "varInspector": {
   "cols": {
    "lenName": 16,
    "lenType": 16,
    "lenVar": 40
   },
   "kernels_config": {
    "python": {
     "delete_cmd_postfix": "",
     "delete_cmd_prefix": "del ",
     "library": "var_list.py",
     "varRefreshCmd": "print(var_dic_list())"
    },
    "r": {
     "delete_cmd_postfix": ") ",
     "delete_cmd_prefix": "rm(",
     "library": "var_list.r",
     "varRefreshCmd": "cat(var_dic_list()) "
    }
   },
   "types_to_exclude": [
    "module",
    "function",
    "builtin_function_or_method",
    "instance",
    "_Feature"
   ],
   "window_display": false
  }
 },
 "nbformat": 4,
 "nbformat_minor": 2
}
